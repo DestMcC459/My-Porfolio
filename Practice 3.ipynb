{
 "cells": [
  {
   "cell_type": "code",
   "execution_count": 44,
   "id": "aaeaf4c1",
   "metadata": {},
   "outputs": [],
   "source": [
    "import pandas as pd \n",
    "import numpy as np \n",
    "from matplotlib import pyplot as plt "
   ]
  },
  {
   "cell_type": "code",
   "execution_count": 45,
   "id": "0d21f950",
   "metadata": {},
   "outputs": [
    {
     "data": {
      "text/html": [
       "<div>\n",
       "<style scoped>\n",
       "    .dataframe tbody tr th:only-of-type {\n",
       "        vertical-align: middle;\n",
       "    }\n",
       "\n",
       "    .dataframe tbody tr th {\n",
       "        vertical-align: top;\n",
       "    }\n",
       "\n",
       "    .dataframe thead th {\n",
       "        text-align: right;\n",
       "    }\n",
       "</style>\n",
       "<table border=\"1\" class=\"dataframe\">\n",
       "  <thead>\n",
       "    <tr style=\"text-align: right;\">\n",
       "      <th></th>\n",
       "      <th>A</th>\n",
       "      <th>B</th>\n",
       "      <th>C</th>\n",
       "      <th>D</th>\n",
       "    </tr>\n",
       "  </thead>\n",
       "  <tbody>\n",
       "    <tr>\n",
       "      <th>1</th>\n",
       "      <td>0.690409</td>\n",
       "      <td>-0.773153</td>\n",
       "      <td>1.431626</td>\n",
       "      <td>-0.497895</td>\n",
       "    </tr>\n",
       "    <tr>\n",
       "      <th>2</th>\n",
       "      <td>0.129746</td>\n",
       "      <td>0.898125</td>\n",
       "      <td>-0.837745</td>\n",
       "      <td>-0.198321</td>\n",
       "    </tr>\n",
       "    <tr>\n",
       "      <th>3</th>\n",
       "      <td>-0.114250</td>\n",
       "      <td>2.081564</td>\n",
       "      <td>0.831167</td>\n",
       "      <td>-0.386375</td>\n",
       "    </tr>\n",
       "    <tr>\n",
       "      <th>4</th>\n",
       "      <td>-0.289136</td>\n",
       "      <td>-0.944299</td>\n",
       "      <td>1.403276</td>\n",
       "      <td>-0.496872</td>\n",
       "    </tr>\n",
       "    <tr>\n",
       "      <th>5</th>\n",
       "      <td>0.233265</td>\n",
       "      <td>-0.875506</td>\n",
       "      <td>-0.098163</td>\n",
       "      <td>1.435488</td>\n",
       "    </tr>\n",
       "    <tr>\n",
       "      <th>6</th>\n",
       "      <td>1.731938</td>\n",
       "      <td>-0.826055</td>\n",
       "      <td>-0.933920</td>\n",
       "      <td>1.552502</td>\n",
       "    </tr>\n",
       "    <tr>\n",
       "      <th>7</th>\n",
       "      <td>-0.217200</td>\n",
       "      <td>1.736671</td>\n",
       "      <td>0.036601</td>\n",
       "      <td>0.240987</td>\n",
       "    </tr>\n",
       "    <tr>\n",
       "      <th>8</th>\n",
       "      <td>0.035885</td>\n",
       "      <td>0.448289</td>\n",
       "      <td>0.750081</td>\n",
       "      <td>-1.558403</td>\n",
       "    </tr>\n",
       "    <tr>\n",
       "      <th>9</th>\n",
       "      <td>-0.940156</td>\n",
       "      <td>-1.073059</td>\n",
       "      <td>-1.525572</td>\n",
       "      <td>-0.817616</td>\n",
       "    </tr>\n",
       "    <tr>\n",
       "      <th>10</th>\n",
       "      <td>0.607740</td>\n",
       "      <td>0.476271</td>\n",
       "      <td>-0.666359</td>\n",
       "      <td>-1.578246</td>\n",
       "    </tr>\n",
       "    <tr>\n",
       "      <th>11</th>\n",
       "      <td>0.761200</td>\n",
       "      <td>-1.557070</td>\n",
       "      <td>-0.614933</td>\n",
       "      <td>-0.120288</td>\n",
       "    </tr>\n",
       "    <tr>\n",
       "      <th>12</th>\n",
       "      <td>-0.327990</td>\n",
       "      <td>-0.116548</td>\n",
       "      <td>0.455847</td>\n",
       "      <td>-0.904441</td>\n",
       "    </tr>\n",
       "    <tr>\n",
       "      <th>13</th>\n",
       "      <td>0.807236</td>\n",
       "      <td>0.050366</td>\n",
       "      <td>-0.281437</td>\n",
       "      <td>-1.019441</td>\n",
       "    </tr>\n",
       "    <tr>\n",
       "      <th>14</th>\n",
       "      <td>0.115763</td>\n",
       "      <td>0.904597</td>\n",
       "      <td>-1.481170</td>\n",
       "      <td>-1.178890</td>\n",
       "    </tr>\n",
       "    <tr>\n",
       "      <th>15</th>\n",
       "      <td>-0.490876</td>\n",
       "      <td>-0.876079</td>\n",
       "      <td>0.924828</td>\n",
       "      <td>-0.309651</td>\n",
       "    </tr>\n",
       "    <tr>\n",
       "      <th>16</th>\n",
       "      <td>-1.339488</td>\n",
       "      <td>-1.581385</td>\n",
       "      <td>-1.751543</td>\n",
       "      <td>0.140808</td>\n",
       "    </tr>\n",
       "    <tr>\n",
       "      <th>17</th>\n",
       "      <td>-1.220564</td>\n",
       "      <td>1.347438</td>\n",
       "      <td>1.414970</td>\n",
       "      <td>-1.749418</td>\n",
       "    </tr>\n",
       "    <tr>\n",
       "      <th>18</th>\n",
       "      <td>-0.627356</td>\n",
       "      <td>-0.208289</td>\n",
       "      <td>-0.060070</td>\n",
       "      <td>0.060612</td>\n",
       "    </tr>\n",
       "    <tr>\n",
       "      <th>19</th>\n",
       "      <td>2.199682</td>\n",
       "      <td>-0.824834</td>\n",
       "      <td>-0.886441</td>\n",
       "      <td>0.461788</td>\n",
       "    </tr>\n",
       "    <tr>\n",
       "      <th>20</th>\n",
       "      <td>-1.125836</td>\n",
       "      <td>-0.593510</td>\n",
       "      <td>-0.608783</td>\n",
       "      <td>-0.042388</td>\n",
       "    </tr>\n",
       "  </tbody>\n",
       "</table>\n",
       "</div>"
      ],
      "text/plain": [
       "           A         B         C         D\n",
       "1   0.690409 -0.773153  1.431626 -0.497895\n",
       "2   0.129746  0.898125 -0.837745 -0.198321\n",
       "3  -0.114250  2.081564  0.831167 -0.386375\n",
       "4  -0.289136 -0.944299  1.403276 -0.496872\n",
       "5   0.233265 -0.875506 -0.098163  1.435488\n",
       "6   1.731938 -0.826055 -0.933920  1.552502\n",
       "7  -0.217200  1.736671  0.036601  0.240987\n",
       "8   0.035885  0.448289  0.750081 -1.558403\n",
       "9  -0.940156 -1.073059 -1.525572 -0.817616\n",
       "10  0.607740  0.476271 -0.666359 -1.578246\n",
       "11  0.761200 -1.557070 -0.614933 -0.120288\n",
       "12 -0.327990 -0.116548  0.455847 -0.904441\n",
       "13  0.807236  0.050366 -0.281437 -1.019441\n",
       "14  0.115763  0.904597 -1.481170 -1.178890\n",
       "15 -0.490876 -0.876079  0.924828 -0.309651\n",
       "16 -1.339488 -1.581385 -1.751543  0.140808\n",
       "17 -1.220564  1.347438  1.414970 -1.749418\n",
       "18 -0.627356 -0.208289 -0.060070  0.060612\n",
       "19  2.199682 -0.824834 -0.886441  0.461788\n",
       "20 -1.125836 -0.593510 -0.608783 -0.042388"
      ]
     },
     "execution_count": 45,
     "metadata": {},
     "output_type": "execute_result"
    }
   ],
   "source": [
    "index = pd.Index(range(1,21))\n",
    "n = pd.DataFrame(np.random.randn(20,4), index=index , columns=list('ABCD'))\n",
    "n"
   ]
  },
  {
   "cell_type": "code",
   "execution_count": 46,
   "id": "65bfb710",
   "metadata": {},
   "outputs": [],
   "source": [
    "n.describe()\n",
    "n = n.cumsum()\n"
   ]
  },
  {
   "cell_type": "code",
   "execution_count": 47,
   "id": "3534a1a8",
   "metadata": {},
   "outputs": [
    {
     "data": {
      "text/plain": [
       "<AxesSubplot:>"
      ]
     },
     "execution_count": 47,
     "metadata": {},
     "output_type": "execute_result"
    },
    {
     "data": {
      "text/plain": [
       "<Figure size 432x288 with 0 Axes>"
      ]
     },
     "metadata": {},
     "output_type": "display_data"
    },
    {
     "data": {
      "image/png": "[encoded data removed]",
      "text/plain": [
       "<Figure size 432x288 with 1 Axes>"
      ]
     },
     "metadata": {
      "needs_background": "light"
     },
     "output_type": "display_data"
    }
   ],
   "source": [
    "plt.figure(); n.plot()"
   ]
  },
  {
   "cell_type": "markdown",
   "id": "a527379f",
   "metadata": {},
   "source": [
    "### Time series "
   ]
  },
  {
   "cell_type": "code",
   "execution_count": 48,
   "id": "0e71b294",
   "metadata": {},
   "outputs": [
    {
     "data": {
      "text/plain": [
       "<AxesSubplot:>"
      ]
     },
     "execution_count": 48,
     "metadata": {},
     "output_type": "execute_result"
    },
    {
     "data": {
      "image/png": "[encoded data removed]",
      "text/plain": [
       "<Figure size 432x288 with 1 Axes>"
      ]
     },
     "metadata": {
      "needs_background": "light"
     },
     "output_type": "display_data"
    }
   ],
   "source": [
    "dates = pd.date_range(start='1/1/2020', end='1/1/2022', periods=1000)\n",
    "ts = pd.Series(np.random.randn(1000), index = dates)\n",
    "ts = np.exp(ts.cumsum())\n",
    "ts.plot(logy=True)"
   ]
  },
  {
   "cell_type": "markdown",
   "id": "ec0e6a31",
   "metadata": {},
   "source": [
    "### Plot density "
   ]
  },
  {
   "cell_type": "code",
   "execution_count": 50,
   "id": "0d2765ec",
   "metadata": {},
   "outputs": [
    {
     "data": {
      "image/png": "[encoded data removed]",
      "text/plain": [
       "<Figure size 432x288 with 1 Axes>"
      ]
     },
     "metadata": {
      "needs_background": "light"
     },
     "output_type": "display_data"
    }
   ],
   "source": [
    "s = pd.Series([2, 3, 4.5, 2, 0, 2.5])\n",
    "#kernel density estimation is a non-parametic way \n",
    "#to estimate probability density function of a random varibale \n",
    "\n",
    "ax = s.plot.kde()"
   ]
  },
  {
   "cell_type": "code",
   "execution_count": 55,
   "id": "c35d6449",
   "metadata": {},
   "outputs": [
    {
     "data": {
      "text/plain": [
       "<AxesSubplot:xlabel='A', ylabel='B'>"
      ]
     },
     "execution_count": 55,
     "metadata": {},
     "output_type": "execute_result"
    },
    {
     "data": {
      "image/png": "[encoded data removed]",
      "text/plain": [
       "<Figure size 432x288 with 1 Axes>"
      ]
     },
     "metadata": {
      "needs_background": "light"
     },
     "output_type": "display_data"
    }
   ],
   "source": [
    "n.plot.scatter(x='A',\n",
    "               y ='B', \n",
    "               c = 'red')"
   ]
  },
  {
   "cell_type": "code",
   "execution_count": 60,
   "id": "0ddf23e3",
   "metadata": {},
   "outputs": [
    {
     "data": {
      "text/plain": [
       "1   A    0.690409\n",
       "    B   -0.773153\n",
       "    C    1.431626\n",
       "    D   -0.497895\n",
       "2   A    0.820155\n",
       "           ...   \n",
       "19  D   -6.923672\n",
       "20  A    0.620011\n",
       "    B   -2.306468\n",
       "    C   -2.497737\n",
       "    D   -6.966060\n",
       "Length: 80, dtype: float64"
      ]
     },
     "execution_count": 60,
     "metadata": {},
     "output_type": "execute_result"
    }
   ],
   "source": [
    "#Why would you want to stack all your data? \n",
    "#Reading in data long ways is easier done instead of by width\n",
    "#Reducing the number of columns helps read data \n",
    "n_stack = n.stack()\n",
    "n_stack"
   ]
  },
  {
   "cell_type": "code",
   "execution_count": 59,
   "id": "6c81b307",
   "metadata": {},
   "outputs": [
    {
     "data": {
      "text/html": [
       "<div>\n",
       "<style scoped>\n",
       "    .dataframe tbody tr th:only-of-type {\n",
       "        vertical-align: middle;\n",
       "    }\n",
       "\n",
       "    .dataframe tbody tr th {\n",
       "        vertical-align: top;\n",
       "    }\n",
       "\n",
       "    .dataframe thead th {\n",
       "        text-align: right;\n",
       "    }\n",
       "</style>\n",
       "<table border=\"1\" class=\"dataframe\">\n",
       "  <thead>\n",
       "    <tr style=\"text-align: right;\">\n",
       "      <th></th>\n",
       "      <th>A</th>\n",
       "      <th>B</th>\n",
       "      <th>C</th>\n",
       "      <th>D</th>\n",
       "    </tr>\n",
       "  </thead>\n",
       "  <tbody>\n",
       "    <tr>\n",
       "      <th>1</th>\n",
       "      <td>0.690409</td>\n",
       "      <td>-0.773153</td>\n",
       "      <td>1.431626</td>\n",
       "      <td>-0.497895</td>\n",
       "    </tr>\n",
       "    <tr>\n",
       "      <th>2</th>\n",
       "      <td>0.820155</td>\n",
       "      <td>0.124971</td>\n",
       "      <td>0.593882</td>\n",
       "      <td>-0.696216</td>\n",
       "    </tr>\n",
       "    <tr>\n",
       "      <th>3</th>\n",
       "      <td>0.705905</td>\n",
       "      <td>2.206536</td>\n",
       "      <td>1.425049</td>\n",
       "      <td>-1.082591</td>\n",
       "    </tr>\n",
       "    <tr>\n",
       "      <th>4</th>\n",
       "      <td>0.416769</td>\n",
       "      <td>1.262236</td>\n",
       "      <td>2.828325</td>\n",
       "      <td>-1.579463</td>\n",
       "    </tr>\n",
       "    <tr>\n",
       "      <th>5</th>\n",
       "      <td>0.650034</td>\n",
       "      <td>0.386730</td>\n",
       "      <td>2.730162</td>\n",
       "      <td>-0.143975</td>\n",
       "    </tr>\n",
       "    <tr>\n",
       "      <th>6</th>\n",
       "      <td>2.381972</td>\n",
       "      <td>-0.439326</td>\n",
       "      <td>1.796243</td>\n",
       "      <td>1.408527</td>\n",
       "    </tr>\n",
       "    <tr>\n",
       "      <th>7</th>\n",
       "      <td>2.164772</td>\n",
       "      <td>1.297345</td>\n",
       "      <td>1.832844</td>\n",
       "      <td>1.649514</td>\n",
       "    </tr>\n",
       "    <tr>\n",
       "      <th>8</th>\n",
       "      <td>2.200657</td>\n",
       "      <td>1.745634</td>\n",
       "      <td>2.582925</td>\n",
       "      <td>0.091110</td>\n",
       "    </tr>\n",
       "    <tr>\n",
       "      <th>9</th>\n",
       "      <td>1.260501</td>\n",
       "      <td>0.672575</td>\n",
       "      <td>1.057353</td>\n",
       "      <td>-0.726505</td>\n",
       "    </tr>\n",
       "    <tr>\n",
       "      <th>10</th>\n",
       "      <td>1.868240</td>\n",
       "      <td>1.148846</td>\n",
       "      <td>0.390994</td>\n",
       "      <td>-2.304751</td>\n",
       "    </tr>\n",
       "    <tr>\n",
       "      <th>11</th>\n",
       "      <td>2.629440</td>\n",
       "      <td>-0.408224</td>\n",
       "      <td>-0.223939</td>\n",
       "      <td>-2.425039</td>\n",
       "    </tr>\n",
       "    <tr>\n",
       "      <th>12</th>\n",
       "      <td>2.301450</td>\n",
       "      <td>-0.524772</td>\n",
       "      <td>0.231908</td>\n",
       "      <td>-3.329480</td>\n",
       "    </tr>\n",
       "    <tr>\n",
       "      <th>13</th>\n",
       "      <td>3.108686</td>\n",
       "      <td>-0.474406</td>\n",
       "      <td>-0.049529</td>\n",
       "      <td>-4.348921</td>\n",
       "    </tr>\n",
       "    <tr>\n",
       "      <th>14</th>\n",
       "      <td>3.224449</td>\n",
       "      <td>0.430191</td>\n",
       "      <td>-1.530699</td>\n",
       "      <td>-5.527811</td>\n",
       "    </tr>\n",
       "    <tr>\n",
       "      <th>15</th>\n",
       "      <td>2.733573</td>\n",
       "      <td>-0.445888</td>\n",
       "      <td>-0.605870</td>\n",
       "      <td>-5.837462</td>\n",
       "    </tr>\n",
       "    <tr>\n",
       "      <th>16</th>\n",
       "      <td>1.394085</td>\n",
       "      <td>-2.027273</td>\n",
       "      <td>-2.357414</td>\n",
       "      <td>-5.696654</td>\n",
       "    </tr>\n",
       "    <tr>\n",
       "      <th>17</th>\n",
       "      <td>0.173521</td>\n",
       "      <td>-0.679835</td>\n",
       "      <td>-0.942443</td>\n",
       "      <td>-7.446072</td>\n",
       "    </tr>\n",
       "    <tr>\n",
       "      <th>18</th>\n",
       "      <td>-0.453835</td>\n",
       "      <td>-0.888124</td>\n",
       "      <td>-1.002514</td>\n",
       "      <td>-7.385460</td>\n",
       "    </tr>\n",
       "    <tr>\n",
       "      <th>19</th>\n",
       "      <td>1.745847</td>\n",
       "      <td>-1.712958</td>\n",
       "      <td>-1.888955</td>\n",
       "      <td>-6.923672</td>\n",
       "    </tr>\n",
       "    <tr>\n",
       "      <th>20</th>\n",
       "      <td>0.620011</td>\n",
       "      <td>-2.306468</td>\n",
       "      <td>-2.497737</td>\n",
       "      <td>-6.966060</td>\n",
       "    </tr>\n",
       "  </tbody>\n",
       "</table>\n",
       "</div>"
      ],
      "text/plain": [
       "           A         B         C         D\n",
       "1   0.690409 -0.773153  1.431626 -0.497895\n",
       "2   0.820155  0.124971  0.593882 -0.696216\n",
       "3   0.705905  2.206536  1.425049 -1.082591\n",
       "4   0.416769  1.262236  2.828325 -1.579463\n",
       "5   0.650034  0.386730  2.730162 -0.143975\n",
       "6   2.381972 -0.439326  1.796243  1.408527\n",
       "7   2.164772  1.297345  1.832844  1.649514\n",
       "8   2.200657  1.745634  2.582925  0.091110\n",
       "9   1.260501  0.672575  1.057353 -0.726505\n",
       "10  1.868240  1.148846  0.390994 -2.304751\n",
       "11  2.629440 -0.408224 -0.223939 -2.425039\n",
       "12  2.301450 -0.524772  0.231908 -3.329480\n",
       "13  3.108686 -0.474406 -0.049529 -4.348921\n",
       "14  3.224449  0.430191 -1.530699 -5.527811\n",
       "15  2.733573 -0.445888 -0.605870 -5.837462\n",
       "16  1.394085 -2.027273 -2.357414 -5.696654\n",
       "17  0.173521 -0.679835 -0.942443 -7.446072\n",
       "18 -0.453835 -0.888124 -1.002514 -7.385460\n",
       "19  1.745847 -1.712958 -1.888955 -6.923672\n",
       "20  0.620011 -2.306468 -2.497737 -6.966060"
      ]
     },
     "execution_count": 59,
     "metadata": {},
     "output_type": "execute_result"
    }
   ],
   "source": [
    "n_stack.unstack()"
   ]
  },
  {
   "cell_type": "code",
   "execution_count": null,
   "id": "0cea5a11",
   "metadata": {},
   "outputs": [],
   "source": []
  }
 ],
 "metadata": {
  "kernelspec": {
   "display_name": "Python 3 (ipykernel)",
   "language": "python",
   "name": "python3"
  },
  "language_info": {
   "codemirror_mode": {
    "name": "ipython",
    "version": 3
   },
   "file_extension": ".py",
   "mimetype": "text/x-python",
   "name": "python",
   "nbconvert_exporter": "python",
   "pygments_lexer": "ipython3",
   "version": "3.9.7"
  }
 },
 "nbformat": 4,
 "nbformat_minor": 5
}
