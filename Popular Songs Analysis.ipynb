{
 "cells": [
  {
   "cell_type": "code",
   "execution_count": null,
   "id": "298ad6c9",
   "metadata": {},
   "outputs": [],
   "source": [
    "import pandas as pd \n",
    "import  numpy as np \n",
    "from matplotlib import pyplot as plt\n",
    "\n",
    "df = pd.read_csv('song_data.csv')\n",
    "print(df.tail(3))"
   ]
  },
  {
   "cell_type": "code",
   "execution_count": null,
   "id": "88e87440",
   "metadata": {
    "scrolled": true
   },
   "outputs": [],
   "source": [
    "#Read Headers \n",
    "df.columns \n",
    "\n",
    "##Read each colums\n",
    "df[:20]\n",
    "\n",
    "##Read Each Row \n",
    "df.iloc[:5]\n",
    "## Read a specific location (R,C)"
   ]
  },
  {
   "cell_type": "code",
   "execution_count": null,
   "id": "e9af06aa",
   "metadata": {},
   "outputs": [],
   "source": [
    "df.describe()"
   ]
  },
  {
   "cell_type": "code",
   "execution_count": null,
   "id": "2c2363e0",
   "metadata": {},
   "outputs": [],
   "source": [
    "df.sort_values('song_name')"
   ]
  },
  {
   "cell_type": "code",
   "execution_count": null,
   "id": "b888d36b",
   "metadata": {},
   "outputs": [],
   "source": [
    "df.head(5)"
   ]
  },
  {
   "cell_type": "code",
   "execution_count": null,
   "id": "08ca6550",
   "metadata": {},
   "outputs": [],
   "source": [
    "cols = list(df.columns.values)\n",
    "#\n",
    "df = df[cols[0:4] +[cols[-1]] + cols[4:12]]\n",
    "print(df)"
   ]
  },
  {
   "cell_type": "code",
   "execution_count": null,
   "id": "8573d166",
   "metadata": {},
   "outputs": [],
   "source": [
    "#Filtering data \n",
    "new_df = df.loc[(df['song_popularity'] == 55) & (df['audio_valence'] == 0.6670)]\n",
    "#new_df = new_df.reset_index()\n",
    "#new_df"
   ]
  },
  {
   "cell_type": "code",
   "execution_count": null,
   "id": "096c8b46",
   "metadata": {},
   "outputs": [],
   "source": [
    "df = pd.read_csv('song_data.csv')\n",
    "#df.groupby(\"song_popularity\").mean().sort_values('energy', ascending=False)\n"
   ]
  },
  {
   "cell_type": "code",
   "execution_count": null,
   "id": "6fa46906",
   "metadata": {},
   "outputs": [],
   "source": [
    "array_energy = np.array(df['energy'])\n",
    "array_acoust = np.array(df['acousticness'])\n",
    "\n",
    "array_energy.sort()\n",
    "array_acoust.sort()\n",
    "array_energy.resize(20)\n",
    "array_acoust.resize(20)\n",
    "plt.scatter(array_energy, array_acoust)\n",
    "plt.show()\n",
    "\n",
    "\n",
    "\n"
   ]
  },
  {
   "cell_type": "code",
   "execution_count": null,
   "id": "75b5f64e",
   "metadata": {},
   "outputs": [],
   "source": [
    "array_energy.resize(20,)\n",
    "print(array_energy)"
   ]
  },
  {
   "cell_type": "markdown",
   "id": "e377092c",
   "metadata": {},
   "source": []
  },
  {
   "cell_type": "code",
   "execution_count": 124,
   "id": "057f44fb",
   "metadata": {},
   "outputs": [
    {
     "data": {
      "text/plain": [
       "18835"
      ]
     },
     "execution_count": 124,
     "metadata": {},
     "output_type": "execute_result"
    }
   ],
   "source": []
  },
  {
   "cell_type": "code",
   "execution_count": null,
   "id": "8afb5cae",
   "metadata": {},
   "outputs": [],
   "source": []
  }
 ],
 "metadata": {
  "kernelspec": {
   "display_name": "Python 3 (ipykernel)",
   "language": "python",
   "name": "python3"
  },
  "language_info": {
   "codemirror_mode": {
    "name": "ipython",
    "version": 3
   },
   "file_extension": ".py",
   "mimetype": "text/x-python",
   "name": "python",
   "nbconvert_exporter": "python",
   "pygments_lexer": "ipython3",
   "version": "3.9.7"
  }
 },
 "nbformat": 4,
 "nbformat_minor": 5
}
